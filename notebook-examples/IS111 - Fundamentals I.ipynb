{
 "cells": [
  {
   "cell_type": "markdown",
   "metadata": {},
   "source": [
    "# Question 1.\n",
    "\n",
    "Fizzbuzz from 1 to 15 :3"
   ]
  },
  {
   "cell_type": "code",
   "execution_count": 1,
   "metadata": {
    "ExecuteTime": {
     "end_time": "2020-06-11T15:35:25.357154Z",
     "start_time": "2020-06-11T15:35:25.352355Z"
    },
    "Question": {
     "expected": "1\n2\nFizz\n4\nBuzz\nFizz\n7\n8\nFizz\nBuzz\n11\nFizz\n13\n14\nFizzBuzz",
     "id": "question-1"
    },
    "scrolled": true
   },
   "outputs": [
    {
     "name": "stdout",
     "output_type": "stream",
     "text": [
      "1\n",
      "2\n",
      "Fizz\n",
      "4\n",
      "Buzz\n",
      "Fizz\n",
      "7\n",
      "8\n",
      "Fizz\n",
      "Buzz\n",
      "11\n",
      "Fizz\n",
      "13\n",
      "14\n",
      "FizzBuzz\n"
     ]
    }
   ],
   "source": [
    "lower = 1\n",
    "upper = 15\n",
    "\n",
    "# Your code here:\n",
    "\n",
    "for i in range(lower, upper + 1):\n",
    "    if i % 15 == 0:\n",
    "        print('FizzBuzz')\n",
    "    elif i % 5 == 0:\n",
    "        print('Buzz')\n",
    "    elif i % 3 == 0:\n",
    "        print('Fizz')\n",
    "    else: \n",
    "        print(i)"
   ]
  },
  {
   "cell_type": "markdown",
   "metadata": {
    "ExecuteTime": {
     "end_time": "2020-06-04T09:25:35.602815Z",
     "start_time": "2020-06-04T09:25:35.599875Z"
    }
   },
   "source": [
    "# Question 2.\n",
    "\n",
    "Just print hello world!"
   ]
  },
  {
   "cell_type": "code",
   "execution_count": 3,
   "metadata": {
    "ExecuteTime": {
     "end_time": "2020-06-11T15:35:26.967936Z",
     "start_time": "2020-06-11T15:35:26.964952Z"
    },
    "Question": {
     "expected": "hello world!",
     "id": "question-2"
    },
    "scrolled": true
   },
   "outputs": [
    {
     "name": "stdout",
     "output_type": "stream",
     "text": [
      " HEllo world!\n"
     ]
    }
   ],
   "source": [
    "print(\" HEllo world!\")"
   ]
  },
  {
   "cell_type": "markdown",
   "metadata": {
    "ExecuteTime": {
     "end_time": "2020-06-04T09:25:35.602815Z",
     "start_time": "2020-06-04T09:25:35.599875Z"
    }
   },
   "source": [
    "# Question 3.\n",
    "\n",
    "Just print whatdoesthefoxsay!"
   ]
  },
  {
   "cell_type": "code",
   "execution_count": 6,
   "metadata": {
    "ExecuteTime": {
     "end_time": "2020-06-11T15:35:35.311608Z",
     "start_time": "2020-06-11T15:35:35.309059Z"
    },
    "Question": {
     "expected": "whatdoesthefoxsay!",
     "id": "question-3"
    },
    "scrolled": true
   },
   "outputs": [
    {
     "name": "stdout",
     "output_type": "stream",
     "text": [
      "whatdoesthefoxsay!\n"
     ]
    }
   ],
   "source": [
    "print(\"whatdoesthefoxsay!\")"
   ]
  },
  {
   "cell_type": "markdown",
   "metadata": {
    "ExecuteTime": {
     "end_time": "2020-06-04T09:25:35.602815Z",
     "start_time": "2020-06-04T09:25:35.599875Z"
    }
   },
   "source": [
    "# Question 4.\n",
    "\n",
    "WHAT DOES THE FOX SAY???"
   ]
  },
  {
   "cell_type": "code",
   "execution_count": 5,
   "metadata": {
    "ExecuteTime": {
     "end_time": "2020-06-11T15:35:33.800631Z",
     "start_time": "2020-06-11T15:35:33.797411Z"
    },
    "Question": {
     "expected": "RINGDINGDING!",
     "id": "question-4"
    },
    "scrolled": true
   },
   "outputs": [
    {
     "name": "stdout",
     "output_type": "stream",
     "text": [
      "RINGDINGDING!\n"
     ]
    }
   ],
   "source": [
    "print(\"RINGDINGDING!\")"
   ]
  },
  {
   "cell_type": "markdown",
   "metadata": {
    "ExecuteTime": {
     "end_time": "2020-06-04T09:25:35.602815Z",
     "start_time": "2020-06-04T09:25:35.599875Z"
    }
   },
   "source": [
    "# Question 5.\n",
    "\n",
    "SING FOR ME"
   ]
  },
  {
   "cell_type": "code",
   "execution_count": 15,
   "metadata": {
    "ExecuteTime": {
     "end_time": "2020-06-11T15:35:44.998337Z",
     "start_time": "2020-06-11T15:35:44.995504Z"
    },
    "Question": {
     "expected": "AAAAAAAAAAAAAAAAAAAAAAAAAAAAAAAAAAAAAAAAAAAAAAAAAAAAAAAAAAAAAAAAAAAAAAAAAAAAAAAAAAAAAAAAAAAAAAAAAAAAAA",
     "id": "question-5"
    }
   },
   "outputs": [
    {
     "name": "stdout",
     "output_type": "stream",
     "text": [
      "AAAAAAAAAAAAAAAAAAAAAAAAAAAAAAAAAAAAAAAAAAAAAAAAAAAAAAAAAAAAAAAAAAAAAAAAAAAAAAAAAAAAAAAAAAAAAAAAAAAAAA\n"
     ]
    }
   ],
   "source": [
    "print(\"AAAAAAAAAAAAAAAAAAAAAAAAAAAAAAAAAAAAAAAAAAAAAAAAAAAAAAAAAAAAAAAAAAAAAAAAAAAAAAAAAAAAAAAAAAAAAAAAAAAAAA\")"
   ]
  },
  {
   "cell_type": "markdown",
   "metadata": {
    "ExecuteTime": {
     "end_time": "2020-06-04T09:25:35.602815Z",
     "start_time": "2020-06-04T09:25:35.599875Z"
    }
   },
   "source": [
    "# Question 6.\n",
    "\n",
    "The bees knees"
   ]
  },
  {
   "cell_type": "code",
   "execution_count": 16,
   "metadata": {
    "ExecuteTime": {
     "end_time": "2020-06-11T15:35:48.071353Z",
     "start_time": "2020-06-11T15:35:48.068744Z"
    },
    "Question": {
     "expected": "bees",
     "id": "question-6"
    }
   },
   "outputs": [
    {
     "name": "stdout",
     "output_type": "stream",
     "text": [
      "bees\n"
     ]
    }
   ],
   "source": [
    "print(\"bees\")"
   ]
  },
  {
   "cell_type": "markdown",
   "metadata": {
    "ExecuteTime": {
     "end_time": "2020-06-04T09:25:35.602815Z",
     "start_time": "2020-06-04T09:25:35.599875Z"
    }
   },
   "source": [
    "# Question 7.\n",
    "\n",
    "Print a christmas tree!\n",
    "When n = 3:\n",
    "\n",
    "```\n",
    "  *\n",
    " ***\n",
    "*****\n",
    "  *\n",
    "```\n",
    "\n",
    "<div class=\"alert alert-info\">\n",
    "    Run the test cases below to see if you got it right!\n",
    "</div>"
   ]
  },
  {
   "cell_type": "code",
   "execution_count": 56,
   "metadata": {
    "ExecuteTime": {
     "end_time": "2020-06-11T15:36:01.572148Z",
     "start_time": "2020-06-11T15:36:01.567494Z"
    },
    "Question": {
     "expected": "   *\n  ***\n *****\n*******\n   *",
     "id": "Christmas Tree 1"
    }
   },
   "outputs": [
    {
     "name": "stdout",
     "output_type": "stream",
     "text": [
      "   *\n",
      "  ***\n",
      " *****\n",
      "*******\n",
      "   *\n"
     ]
    }
   ],
   "source": [
    "n = 5\n",
    "# Your code here:\n",
    "\n",
    "print(\n",
    "'''\n",
    "   *\n",
    "  ***\n",
    " *****\n",
    "*******\n",
    "   *\n",
    "'''.strip('\\n')) # Of course this isn't the answer but yknow"
   ]
  },
  {
   "cell_type": "code",
   "execution_count": 19,
   "metadata": {
    "ExecuteTime": {
     "end_time": "2020-06-11T15:35:52.815948Z",
     "start_time": "2020-06-11T15:35:52.812872Z"
    },
    "Question": {
     "expected": "    *\n   ***\n  *****\n *******\n*********\n    *",
     "id": "Christmas Tree 2"
    }
   },
   "outputs": [
    {
     "name": "stdout",
     "output_type": "stream",
     "text": [
      "    *\n",
      "   ***\n",
      "  *****\n",
      " *******\n",
      "*********\n",
      "    *\n"
     ]
    }
   ],
   "source": [
    "n = 6\n",
    "# Your code here:\n",
    "\n",
    "print(\n",
    "'''\n",
    "    *\n",
    "   ***\n",
    "  *****\n",
    " *******\n",
    "*********\n",
    "    *\n",
    "'''.strip('\\n'))"
   ]
  }
 ],
 "metadata": {
  "JupyterClass": {
   "expiry": "Wed Jun 12 2020 23:15:44",
   "practiceId": "IS111 - Lesson 1A",
   "server": "http://localhost:3000",
   "sessionPwd": "password123",
   "studentId": "abc"
  },
  "kernelspec": {
   "display_name": "Python 3",
   "language": "python",
   "name": "python3"
  },
  "language_info": {
   "codemirror_mode": {
    "name": "ipython",
    "version": 3
   },
   "file_extension": ".py",
   "mimetype": "text/x-python",
   "name": "python",
   "nbconvert_exporter": "python",
   "pygments_lexer": "ipython3",
   "version": "3.7.3"
  }
 },
 "nbformat": 4,
 "nbformat_minor": 2
}
